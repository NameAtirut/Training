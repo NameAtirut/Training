{
  "nbformat": 4,
  "nbformat_minor": 0,
  "metadata": {
    "colab": {
      "name": "MNIST dataset Prediction.ipynb",
      "provenance": [],
      "collapsed_sections": [
        "O-zvA7sfkG4g"
      ]
    },
    "kernelspec": {
      "name": "python3",
      "display_name": "Python 3"
    },
    "language_info": {
      "name": "python"
    }
  },
  "cells": [
    {
      "cell_type": "markdown",
      "metadata": {
        "id": "07Ky_5YuB9xS"
      },
      "source": [
        "## MNIST dataset\n",
        "Using a Custom model of Convolutional NN\n"
      ]
    },
    {
      "cell_type": "markdown",
      "metadata": {
        "id": "xEqxcbxdXz8s"
      },
      "source": [
        "Import the dataset"
      ]
    },
    {
      "cell_type": "code",
      "metadata": {
        "id": "1xur2ui7DdG1"
      },
      "source": [
        "import tensorflow as tf\n",
        "from tensorflow import keras\n",
        "from keras import layers\n",
        "\n",
        "(x_train, y_train), (x_test,y_test)= tf.keras.datasets.mnist.load_data(path=\"mnist.npz\")"
      ],
      "execution_count": 5,
      "outputs": []
    },
    {
      "cell_type": "markdown",
      "metadata": {
        "id": "VO2_hsbxX208"
      },
      "source": [
        "Explore and Prepare the data"
      ]
    },
    {
      "cell_type": "code",
      "metadata": {
        "id": "tnAYEeTEaSSl"
      },
      "source": [
        "def insight(data):\n",
        "  print(f\"Min: {data.min()}\")\n",
        "  print(f\"Max: {data.max()}\")\n",
        "  print(f\"Mean:{data.mean()} \")\n",
        "  print(\"\\n\")"
      ],
      "execution_count": 6,
      "outputs": []
    },
    {
      "cell_type": "code",
      "metadata": {
        "colab": {
          "base_uri": "https://localhost:8080/"
        },
        "id": "ksW48hSQbU7l",
        "outputId": "0c83c5b0-7e8c-4f47-9ba6-eb7cccc9da2b"
      },
      "source": [
        "# Check the overall value of the dataset\n",
        "insight1 = list(map(insight,(x_train,x_test)))\n",
        "print(insight1)"
      ],
      "execution_count": 7,
      "outputs": [
        {
          "output_type": "stream",
          "text": [
            "Min: 0\n",
            "Max: 255\n",
            "Mean:33.318421449829934 \n",
            "\n",
            "\n",
            "Min: 0\n",
            "Max: 255\n",
            "Mean:33.791224489795916 \n",
            "\n",
            "\n",
            "[None, None]\n"
          ],
          "name": "stdout"
        }
      ]
    },
    {
      "cell_type": "markdown",
      "metadata": {
        "id": "bX4TpMpzckxF"
      },
      "source": [
        "Transformation"
      ]
    },
    {
      "cell_type": "code",
      "metadata": {
        "colab": {
          "base_uri": "https://localhost:8080/"
        },
        "id": "e8qaP8hkEzPj",
        "outputId": "8868627a-c7fa-4ded-a79a-de9bf916035f"
      },
      "source": [
        "# Scale the inputs down to (0,1)\n",
        "x_train = x_train.astype(\"float32\") / x_train.max()\n",
        "x_test = x_test.astype(\"float32\") / x_test.max()\n",
        "\n",
        "insight2 = list(map(insight,(x_train,x_test)))\n",
        "print(insight2)"
      ],
      "execution_count": 8,
      "outputs": [
        {
          "output_type": "stream",
          "text": [
            "Min: 0.0\n",
            "Max: 1.0\n",
            "Mean:0.13066062331199646 \n",
            "\n",
            "\n",
            "Min: 0.0\n",
            "Max: 1.0\n",
            "Mean:0.13251467049121857 \n",
            "\n",
            "\n",
            "[None, None]\n"
          ],
          "name": "stdout"
        }
      ]
    },
    {
      "cell_type": "code",
      "metadata": {
        "id": "MpERDvyEcirt"
      },
      "source": [
        "# from (60000,28,28) to (60000,28,28,1)\n",
        "import numpy as np\n",
        "x_train = np.expand_dims(x_train, -1)\n",
        "x_test = np.expand_dims(x_test, -1)"
      ],
      "execution_count": 9,
      "outputs": []
    },
    {
      "cell_type": "code",
      "metadata": {
        "colab": {
          "base_uri": "https://localhost:8080/"
        },
        "id": "-o8RBkjrfHIG",
        "outputId": "3f188598-1745-4265-b54b-66ca29299897"
      },
      "source": [
        "# Number of samples in each set\n",
        "print(x_train.shape[0], \"train samples\")\n",
        "print(x_test.shape[0], \"test samples\")"
      ],
      "execution_count": 10,
      "outputs": [
        {
          "output_type": "stream",
          "text": [
            "60000 train samples\n",
            "10000 test samples\n"
          ],
          "name": "stdout"
        }
      ]
    },
    {
      "cell_type": "code",
      "metadata": {
        "id": "w1j3CdKufSMd"
      },
      "source": [
        "# convert the labels from Integer class to Binary class (for crossentropy validation)\n",
        "num_classes = 10\n",
        "y_train = keras.utils.to_categorical(y_train, num_classes)\n",
        "y_test = keras.utils.to_categorical(y_test, num_classes)"
      ],
      "execution_count": 11,
      "outputs": []
    },
    {
      "cell_type": "markdown",
      "metadata": {
        "id": "O-zvA7sfkG4g"
      },
      "source": [
        "### Build the CNN model\n",
        "\n",
        "\n",
        "*   Sequential (feed-forward)\n",
        "*   2 hidden layers of 32 and 64 filters of (3,3)\n",
        "  -   Activation function: Rectify Linear Unit \n",
        "  -   Pooling (2,2): reduce the output size of each layer by 1/4\n",
        "\n",
        "\n",
        "*   Dropout: decreases overfitting\n",
        "*   Output layer: SoftMax Act.Fn.\n",
        "\n",
        "\n",
        "\n",
        "\n"
      ]
    },
    {
      "cell_type": "code",
      "metadata": {
        "colab": {
          "base_uri": "https://localhost:8080/"
        },
        "id": "Ho3lpMUqgbZ3",
        "outputId": "37b98246-8832-4a2c-918a-dce7c8d36c58"
      },
      "source": [
        "input_shape = (28,28,1)\n",
        "# Sequential : feed-forward CNN model\n",
        "model = keras.Sequential(\n",
        "    [\n",
        "        keras.Input(shape=input_shape),\n",
        "     # Two CNN layers with 32/64 filters of 3x3 size and Pooling to reduce the size of output\n",
        "        layers.Conv2D(32, kernel_size=(3, 3), activation=\"relu\"),\n",
        "        layers.MaxPooling2D(pool_size=(2, 2)),\n",
        "     \n",
        "        layers.Conv2D(64, kernel_size=(3, 3), activation=\"relu\"),\n",
        "        layers.MaxPooling2D(pool_size=(2, 2)),\n",
        "     # Flatten to 1D\n",
        "        layers.Flatten(),\n",
        "     # Set dropout rate to avoid overfitting\n",
        "        layers.Dropout(0.5),\n",
        "     # Output layer\n",
        "        layers.Dense(num_classes, activation=\"softmax\"),\n",
        "    ]\n",
        ")\n",
        "\n",
        "model.summary()"
      ],
      "execution_count": 12,
      "outputs": [
        {
          "output_type": "stream",
          "text": [
            "Model: \"sequential\"\n",
            "_________________________________________________________________\n",
            "Layer (type)                 Output Shape              Param #   \n",
            "=================================================================\n",
            "conv2d (Conv2D)              (None, 26, 26, 32)        320       \n",
            "_________________________________________________________________\n",
            "max_pooling2d (MaxPooling2D) (None, 13, 13, 32)        0         \n",
            "_________________________________________________________________\n",
            "conv2d_1 (Conv2D)            (None, 11, 11, 64)        18496     \n",
            "_________________________________________________________________\n",
            "max_pooling2d_1 (MaxPooling2 (None, 5, 5, 64)          0         \n",
            "_________________________________________________________________\n",
            "flatten (Flatten)            (None, 1600)              0         \n",
            "_________________________________________________________________\n",
            "dropout (Dropout)            (None, 1600)              0         \n",
            "_________________________________________________________________\n",
            "dense (Dense)                (None, 10)                16010     \n",
            "=================================================================\n",
            "Total params: 34,826\n",
            "Trainable params: 34,826\n",
            "Non-trainable params: 0\n",
            "_________________________________________________________________\n"
          ],
          "name": "stdout"
        }
      ]
    },
    {
      "cell_type": "markdown",
      "metadata": {
        "id": "lqoMzTPbkF3_"
      },
      "source": [
        "### Compile & Train\n",
        "\n",
        "*   Loss fn. = categorical_crossentropy\n",
        "*   Optimizer = adam : Gradient Descent Algorithm\n",
        "*   Output = accuracy\n",
        "\n"
      ]
    },
    {
      "cell_type": "code",
      "metadata": {
        "colab": {
          "base_uri": "https://localhost:8080/"
        },
        "id": "mk0cxEy2i-lO",
        "outputId": "f997631f-8801-4572-c559-1b40e7b3e255"
      },
      "source": [
        "batch_size = 128\n",
        "epochs = 15\n",
        "\n",
        "model.compile(loss=\"categorical_crossentropy\", optimizer=\"adam\", metrics=[\"accuracy\"])\n",
        "\n",
        "model.fit(x_train, y_train, batch_size=batch_size, epochs=epochs, validation_split=0.1)"
      ],
      "execution_count": 13,
      "outputs": [
        {
          "output_type": "stream",
          "text": [
            "Epoch 1/15\n",
            "422/422 [==============================] - 36s 84ms/step - loss: 0.7528 - accuracy: 0.7686 - val_loss: 0.0816 - val_accuracy: 0.9798\n",
            "Epoch 2/15\n",
            "422/422 [==============================] - 35s 83ms/step - loss: 0.1216 - accuracy: 0.9631 - val_loss: 0.0550 - val_accuracy: 0.9865\n",
            "Epoch 3/15\n",
            "422/422 [==============================] - 35s 83ms/step - loss: 0.0865 - accuracy: 0.9742 - val_loss: 0.0473 - val_accuracy: 0.9865\n",
            "Epoch 4/15\n",
            "422/422 [==============================] - 35s 84ms/step - loss: 0.0689 - accuracy: 0.9777 - val_loss: 0.0426 - val_accuracy: 0.9883\n",
            "Epoch 5/15\n",
            "422/422 [==============================] - 35s 83ms/step - loss: 0.0630 - accuracy: 0.9808 - val_loss: 0.0401 - val_accuracy: 0.9890\n",
            "Epoch 6/15\n",
            "422/422 [==============================] - 35s 83ms/step - loss: 0.0538 - accuracy: 0.9830 - val_loss: 0.0384 - val_accuracy: 0.9892\n",
            "Epoch 7/15\n",
            "422/422 [==============================] - 35s 82ms/step - loss: 0.0513 - accuracy: 0.9842 - val_loss: 0.0350 - val_accuracy: 0.9902\n",
            "Epoch 8/15\n",
            "422/422 [==============================] - 35s 82ms/step - loss: 0.0454 - accuracy: 0.9854 - val_loss: 0.0322 - val_accuracy: 0.9915\n",
            "Epoch 9/15\n",
            "422/422 [==============================] - 35s 82ms/step - loss: 0.0423 - accuracy: 0.9869 - val_loss: 0.0319 - val_accuracy: 0.9907\n",
            "Epoch 10/15\n",
            "422/422 [==============================] - 35s 83ms/step - loss: 0.0410 - accuracy: 0.9867 - val_loss: 0.0346 - val_accuracy: 0.9910\n",
            "Epoch 11/15\n",
            "422/422 [==============================] - 35s 83ms/step - loss: 0.0380 - accuracy: 0.9877 - val_loss: 0.0306 - val_accuracy: 0.9925\n",
            "Epoch 12/15\n",
            "422/422 [==============================] - 35s 83ms/step - loss: 0.0383 - accuracy: 0.9883 - val_loss: 0.0297 - val_accuracy: 0.9915\n",
            "Epoch 13/15\n",
            "422/422 [==============================] - 35s 83ms/step - loss: 0.0382 - accuracy: 0.9880 - val_loss: 0.0310 - val_accuracy: 0.9920\n",
            "Epoch 14/15\n",
            "422/422 [==============================] - 35s 83ms/step - loss: 0.0320 - accuracy: 0.9899 - val_loss: 0.0296 - val_accuracy: 0.9920\n",
            "Epoch 15/15\n",
            "422/422 [==============================] - 35s 83ms/step - loss: 0.0332 - accuracy: 0.9893 - val_loss: 0.0297 - val_accuracy: 0.9925\n"
          ],
          "name": "stdout"
        },
        {
          "output_type": "execute_result",
          "data": {
            "text/plain": [
              "<tensorflow.python.keras.callbacks.History at 0x7f5fbfccfad0>"
            ]
          },
          "metadata": {
            "tags": []
          },
          "execution_count": 13
        }
      ]
    },
    {
      "cell_type": "markdown",
      "metadata": {
        "id": "Wrb7lw7szqCR"
      },
      "source": [
        "Evaluate the model"
      ]
    },
    {
      "cell_type": "code",
      "metadata": {
        "colab": {
          "base_uri": "https://localhost:8080/"
        },
        "id": "REPUcwrpjEJ4",
        "outputId": "024893df-c649-433b-9dc0-49f33e27ecf2"
      },
      "source": [
        "score = model.evaluate(x_test, y_test, verbose=0)\n",
        "print(\"Test loss:\", score[0])\n",
        "print(\"Test accuracy:\", score[1])"
      ],
      "execution_count": 14,
      "outputs": [
        {
          "output_type": "stream",
          "text": [
            "Test loss: 0.02675081230700016\n",
            "Test accuracy: 0.9907000064849854\n"
          ],
          "name": "stdout"
        }
      ]
    },
    {
      "cell_type": "markdown",
      "metadata": {
        "id": "W0rQk2abzuGJ"
      },
      "source": [
        "Visualise the results"
      ]
    },
    {
      "cell_type": "code",
      "metadata": {
        "colab": {
          "base_uri": "https://localhost:8080/",
          "height": 282
        },
        "id": "7UKm46k4qLSx",
        "outputId": "f30b6d0c-9450-4125-843b-1d552507fca5"
      },
      "source": [
        "import matplotlib.pyplot as plt\n",
        "x_test1, xtrain1 = map(np.squeeze,(x_test,x_train))\n",
        "plt.imshow(x_test1[0])"
      ],
      "execution_count": 15,
      "outputs": [
        {
          "output_type": "execute_result",
          "data": {
            "text/plain": [
              "<matplotlib.image.AxesImage at 0x7f5fb27a1110>"
            ]
          },
          "metadata": {
            "tags": []
          },
          "execution_count": 15
        },
        {
          "output_type": "display_data",
          "data": {
            "image/png": "[encoded data removed]",
            "text/plain": [
              "<Figure size 432x288 with 1 Axes>"
            ]
          },
          "metadata": {
            "tags": [],
            "needs_background": "light"
          }
        }
      ]
    },
    {
      "cell_type": "code",
      "metadata": {
        "colab": {
          "base_uri": "https://localhost:8080/",
          "height": 312
        },
        "id": "6YgWlxR7sDxY",
        "outputId": "f33540d6-2d89-4891-94d0-9e7f266d1bc7"
      },
      "source": [
        "COLOR = 'Blue'\n",
        "plt.rcParams['text.color'] = COLOR\n",
        "plt.rcParams['axes.labelcolor'] = COLOR\n",
        "\n",
        "def show_image(img, label, guess):\n",
        "  plt.figure()\n",
        "  plt.imshow(img)\n",
        "  plt.title(f\"Expected: {label}\")\n",
        "  plt.xlabel(f\"Guess: {guess}\")\n",
        "  plt.colorbar()\n",
        "  plt.grid(False)\n",
        "  plt.show()\n",
        "\n",
        "\n",
        "def get_number():\n",
        "  while True:\n",
        "    num = input(\"Pick a number: \")\n",
        "    if num.isdigit():\n",
        "      num = int(num)\n",
        "      if 0 <= num <= 1000:\n",
        "        return int(num)\n",
        "    else:\n",
        "      print(\"Try again...\")\n",
        "\n",
        "num = get_number()\n",
        "image = x_test1[num]\n",
        "label = y_test[num]\n",
        "\n",
        "class_names = ['0','1','2','3','4','5','6','7','8','9']\n",
        "prediction = model.predict(np.array([x_test[num]]))\n",
        "predicted_class = class_names[np.argmax(prediction)]\n",
        "\n",
        "show_image(image, np.argmax(label), predicted_class)"
      ],
      "execution_count": 16,
      "outputs": [
        {
          "output_type": "stream",
          "text": [
            "Pick a number: 0\n"
          ],
          "name": "stdout"
        },
        {
          "output_type": "display_data",
          "data": {
            "image/png": "[encoded data removed]",
            "text/plain": [
              "<Figure size 432x288 with 2 Axes>"
            ]
          },
          "metadata": {
            "tags": [],
            "needs_background": "light"
          }
        }
      ]
    }
  ]
}
