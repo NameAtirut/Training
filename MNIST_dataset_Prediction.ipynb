{
  "nbformat": 4,
  "nbformat_minor": 0,
  "metadata": {
    "colab": {
      "name": "MNIST dataset Prediction.ipynb",
      "provenance": [],
      "collapsed_sections": [
        "O-zvA7sfkG4g"
      ]
    },
    "kernelspec": {
      "name": "python3",
      "display_name": "Python 3"
    },
    "language_info": {
      "name": "python"
    }
  },
  "cells": [
    {
      "cell_type": "markdown",
      "metadata": {
        "id": "07Ky_5YuB9xS"
      },
      "source": [
        "## MNIST dataset\n",
        "Using a Custom model of Convolutional NN\n"
      ]
    },
    {
      "cell_type": "markdown",
      "metadata": {
        "id": "xEqxcbxdXz8s"
      },
      "source": [
        "Import the dataset"
      ]
    },
    {
      "cell_type": "code",
      "metadata": {
        "id": "1xur2ui7DdG1",
        "colab": {
          "base_uri": "https://localhost:8080/"
        },
        "outputId": "c106a6d3-5bd3-4fe4-bb60-8a15f1163e4d"
      },
      "source": [
        "import tensorflow as tf\n",
        "from tensorflow import keras\n",
        "from keras import layers\n",
        "\n",
        "(x_train, y_train), (x_test,y_test)= tf.keras.datasets.mnist.load_data(path=\"mnist.npz\")"
      ],
      "execution_count": 2,
      "outputs": [
        {
          "output_type": "stream",
          "text": [
            "Downloading data from https://storage.googleapis.com/tensorflow/tf-keras-datasets/mnist.npz\n",
            "11493376/11490434 [==============================] - 0s 0us/step\n"
          ],
          "name": "stdout"
        }
      ]
    },
    {
      "cell_type": "markdown",
      "metadata": {
        "id": "VO2_hsbxX208"
      },
      "source": [
        "Explore and Prepare the data"
      ]
    },
    {
      "cell_type": "code",
      "metadata": {
        "id": "tnAYEeTEaSSl"
      },
      "source": [
        "def insight(data):\n",
        "  print(f\"Min: {data.min()}\")\n",
        "  print(f\"Max: {data.max()}\")\n",
        "  print(f\"Mean:{data.mean()} \")\n",
        "  print(\"\\n\")"
      ],
      "execution_count": 3,
      "outputs": []
    },
    {
      "cell_type": "code",
      "metadata": {
        "colab": {
          "base_uri": "https://localhost:8080/"
        },
        "id": "ksW48hSQbU7l",
        "outputId": "119c0b7c-8dd1-4526-e424-6a5d6cf3be0d"
      },
      "source": [
        "# Check the overall value of the dataset\n",
        "insight1 = list(map(insight,(x_train,x_test)))\n",
        "print(insight1)"
      ],
      "execution_count": 4,
      "outputs": [
        {
          "output_type": "stream",
          "text": [
            "Min: 0\n",
            "Max: 255\n",
            "Mean:33.318421449829934 \n",
            "\n",
            "\n",
            "Min: 0\n",
            "Max: 255\n",
            "Mean:33.791224489795916 \n",
            "\n",
            "\n",
            "[None, None]\n"
          ],
          "name": "stdout"
        }
      ]
    },
    {
      "cell_type": "markdown",
      "metadata": {
        "id": "bX4TpMpzckxF"
      },
      "source": [
        "Transformation"
      ]
    },
    {
      "cell_type": "code",
      "metadata": {
        "colab": {
          "base_uri": "https://localhost:8080/"
        },
        "id": "e8qaP8hkEzPj",
        "outputId": "b8a2432f-7ffa-4094-edc2-30f3b8e6e597"
      },
      "source": [
        "# Scale the inputs down to (0,1)\n",
        "x_train = x_train.astype(\"float32\") / x_train.max()\n",
        "x_test = x_test.astype(\"float32\") / x_test.max()\n",
        "\n",
        "insight2 = list(map(insight,(x_train,x_test)))\n",
        "print(insight2)"
      ],
      "execution_count": null,
      "outputs": [
        {
          "output_type": "stream",
          "text": [
            "Min: 0.0\n",
            "Max: 1.0\n",
            "Mean: 0.13066062\n",
            "\n",
            "\n",
            "Min: 0.0\n",
            "Max: 1.0\n",
            "Mean: 0.13251467\n",
            "\n",
            "\n",
            "[None, None]\n"
          ],
          "name": "stdout"
        }
      ]
    },
    {
      "cell_type": "code",
      "metadata": {
        "id": "MpERDvyEcirt"
      },
      "source": [
        "# from (60000,28,28) to (60000,28,28,1)\n",
        "import numpy as np\n",
        "x_train = np.expand_dims(x_train, -1)\n",
        "x_test = np.expand_dims(x_test, -1)"
      ],
      "execution_count": null,
      "outputs": []
    },
    {
      "cell_type": "code",
      "metadata": {
        "colab": {
          "base_uri": "https://localhost:8080/"
        },
        "id": "-o8RBkjrfHIG",
        "outputId": "4f92af0d-c764-4080-bae1-83cfe636dfca"
      },
      "source": [
        "# Number of samples in each set\n",
        "print(x_train.shape[0], \"train samples\")\n",
        "print(x_test.shape[0], \"test samples\")"
      ],
      "execution_count": null,
      "outputs": [
        {
          "output_type": "stream",
          "text": [
            "60000 train samples\n",
            "10000 test samples\n"
          ],
          "name": "stdout"
        }
      ]
    },
    {
      "cell_type": "code",
      "metadata": {
        "id": "w1j3CdKufSMd"
      },
      "source": [
        "# convert the labels from Integer class to Binary class (for crossentropy validation)\n",
        "num_classes = 10\n",
        "y_train = keras.utils.to_categorical(y_train, num_classes)\n",
        "y_test = keras.utils.to_categorical(y_test, num_classes)"
      ],
      "execution_count": null,
      "outputs": []
    },
    {
      "cell_type": "markdown",
      "metadata": {
        "id": "O-zvA7sfkG4g"
      },
      "source": [
        "### Build the CNN model\n",
        "\n",
        "\n",
        "*   Sequential (feed-forward)\n",
        "*   2 hidden layers of 32 and 64 filters of (3,3)\n",
        "  -   Activation function: Rectify Linear Unit \n",
        "  -   Pooling (2,2): reduce the output size of each layer by 1/4\n",
        "\n",
        "\n",
        "*   Dropout: decreases overfitting\n",
        "*   Output layer: SoftMax Act.Fn.\n",
        "\n",
        "\n",
        "\n",
        "\n"
      ]
    },
    {
      "cell_type": "code",
      "metadata": {
        "colab": {
          "base_uri": "https://localhost:8080/"
        },
        "id": "Ho3lpMUqgbZ3",
        "outputId": "778e3c83-370b-44ce-e500-8fba5b7e4a83"
      },
      "source": [
        "input_shape = (28,28,1)\n",
        "# Sequential : feed-forward CNN model\n",
        "model = keras.Sequential(\n",
        "    [\n",
        "        keras.Input(shape=input_shape),\n",
        "     # Two CNN layers with 32/64 filters of 3x3 size and Pooling to reduce the size of output\n",
        "        layers.Conv2D(32, kernel_size=(3, 3), activation=\"relu\"),\n",
        "        layers.MaxPooling2D(pool_size=(2, 2)),\n",
        "     \n",
        "        layers.Conv2D(64, kernel_size=(3, 3), activation=\"relu\"),\n",
        "        layers.MaxPooling2D(pool_size=(2, 2)),\n",
        "     # Flatten to 1D\n",
        "        layers.Flatten(),\n",
        "     # Set dropout rate to avoid overfitting\n",
        "        layers.Dropout(0.5),\n",
        "     # Output layer\n",
        "        layers.Dense(num_classes, activation=\"softmax\"),\n",
        "    ]\n",
        ")\n",
        "\n",
        "model.summary()"
      ],
      "execution_count": null,
      "outputs": [
        {
          "output_type": "stream",
          "text": [
            "Model: \"sequential_1\"\n",
            "_________________________________________________________________\n",
            "Layer (type)                 Output Shape              Param #   \n",
            "=================================================================\n",
            "conv2d_2 (Conv2D)            (None, 26, 26, 32)        320       \n",
            "_________________________________________________________________\n",
            "max_pooling2d_2 (MaxPooling2 (None, 13, 13, 32)        0         \n",
            "_________________________________________________________________\n",
            "conv2d_3 (Conv2D)            (None, 11, 11, 64)        18496     \n",
            "_________________________________________________________________\n",
            "max_pooling2d_3 (MaxPooling2 (None, 5, 5, 64)          0         \n",
            "_________________________________________________________________\n",
            "flatten_1 (Flatten)          (None, 1600)              0         \n",
            "_________________________________________________________________\n",
            "dropout_1 (Dropout)          (None, 1600)              0         \n",
            "_________________________________________________________________\n",
            "dense_1 (Dense)              (None, 10)                16010     \n",
            "=================================================================\n",
            "Total params: 34,826\n",
            "Trainable params: 34,826\n",
            "Non-trainable params: 0\n",
            "_________________________________________________________________\n"
          ],
          "name": "stdout"
        }
      ]
    },
    {
      "cell_type": "markdown",
      "metadata": {
        "id": "lqoMzTPbkF3_"
      },
      "source": [
        "### Compile & Train\n",
        "\n",
        "*   Loss fn. = categorical_crossentropy\n",
        "*   Optimizer = adam : Gradient Descent Algorithm\n",
        "*   Output = accuracy\n",
        "\n"
      ]
    },
    {
      "cell_type": "code",
      "metadata": {
        "colab": {
          "base_uri": "https://localhost:8080/"
        },
        "id": "mk0cxEy2i-lO",
        "outputId": "0ab55d0c-ee66-4b5d-c849-9ffc46f81e19"
      },
      "source": [
        "batch_size = 128\n",
        "epochs = 15\n",
        "\n",
        "model.compile(loss=\"categorical_crossentropy\", optimizer=\"adam\", metrics=[\"accuracy\"])\n",
        "\n",
        "model.fit(x_train, y_train, batch_size=batch_size, epochs=epochs, validation_split=0.1)"
      ],
      "execution_count": null,
      "outputs": [
        {
          "output_type": "stream",
          "text": [
            "Epoch 1/15\n",
            "422/422 [==============================] - 35s 7ms/step - loss: 0.7799 - accuracy: 0.7529 - val_loss: 0.0859 - val_accuracy: 0.9772\n",
            "Epoch 2/15\n",
            "422/422 [==============================] - 2s 6ms/step - loss: 0.1276 - accuracy: 0.9606 - val_loss: 0.0591 - val_accuracy: 0.9838\n",
            "Epoch 3/15\n",
            "422/422 [==============================] - 2s 6ms/step - loss: 0.0906 - accuracy: 0.9721 - val_loss: 0.0469 - val_accuracy: 0.9877\n",
            "Epoch 4/15\n",
            "422/422 [==============================] - 2s 5ms/step - loss: 0.0761 - accuracy: 0.9772 - val_loss: 0.0434 - val_accuracy: 0.9883\n",
            "Epoch 5/15\n",
            "422/422 [==============================] - 2s 6ms/step - loss: 0.0632 - accuracy: 0.9808 - val_loss: 0.0392 - val_accuracy: 0.9897\n",
            "Epoch 6/15\n",
            "422/422 [==============================] - 2s 6ms/step - loss: 0.0554 - accuracy: 0.9831 - val_loss: 0.0369 - val_accuracy: 0.9892\n",
            "Epoch 7/15\n",
            "422/422 [==============================] - 2s 6ms/step - loss: 0.0528 - accuracy: 0.9833 - val_loss: 0.0325 - val_accuracy: 0.9920\n",
            "Epoch 8/15\n",
            "422/422 [==============================] - 2s 5ms/step - loss: 0.0477 - accuracy: 0.9840 - val_loss: 0.0315 - val_accuracy: 0.9907\n",
            "Epoch 9/15\n",
            "422/422 [==============================] - 2s 6ms/step - loss: 0.0449 - accuracy: 0.9854 - val_loss: 0.0314 - val_accuracy: 0.9910\n",
            "Epoch 10/15\n",
            "422/422 [==============================] - 2s 6ms/step - loss: 0.0420 - accuracy: 0.9867 - val_loss: 0.0326 - val_accuracy: 0.9915\n",
            "Epoch 11/15\n",
            "422/422 [==============================] - 2s 6ms/step - loss: 0.0389 - accuracy: 0.9881 - val_loss: 0.0295 - val_accuracy: 0.9933\n",
            "Epoch 12/15\n",
            "422/422 [==============================] - 2s 5ms/step - loss: 0.0384 - accuracy: 0.9871 - val_loss: 0.0275 - val_accuracy: 0.9925\n",
            "Epoch 13/15\n",
            "422/422 [==============================] - 2s 6ms/step - loss: 0.0377 - accuracy: 0.9876 - val_loss: 0.0276 - val_accuracy: 0.9922\n",
            "Epoch 14/15\n",
            "422/422 [==============================] - 2s 6ms/step - loss: 0.0353 - accuracy: 0.9890 - val_loss: 0.0280 - val_accuracy: 0.9918\n",
            "Epoch 15/15\n",
            "422/422 [==============================] - 2s 6ms/step - loss: 0.0347 - accuracy: 0.9892 - val_loss: 0.0272 - val_accuracy: 0.9925\n"
          ],
          "name": "stdout"
        },
        {
          "output_type": "execute_result",
          "data": {
            "text/plain": [
              "<tensorflow.python.keras.callbacks.History at 0x7f753ecb6b50>"
            ]
          },
          "metadata": {
            "tags": []
          },
          "execution_count": 123
        }
      ]
    },
    {
      "cell_type": "code",
      "metadata": {
        "colab": {
          "base_uri": "https://localhost:8080/"
        },
        "id": "REPUcwrpjEJ4",
        "outputId": "aea415d7-8c2d-4bd6-9145-feed69fd78ff"
      },
      "source": [
        "score = model.evaluate(x_test, y_test, verbose=0)\n",
        "print(\"Test loss:\", score[0])\n",
        "print(\"Test accuracy:\", score[1])"
      ],
      "execution_count": null,
      "outputs": [
        {
          "output_type": "stream",
          "text": [
            "Test loss: 0.026235196739435196\n",
            "Test accuracy: 0.9904000163078308\n"
          ],
          "name": "stdout"
        },
        {
          "output_type": "execute_result",
          "data": {
            "text/plain": [
              "[0.026235196739435196, 0.9904000163078308]"
            ]
          },
          "metadata": {
            "tags": []
          },
          "execution_count": 125
        }
      ]
    },
    {
      "cell_type": "code",
      "metadata": {
        "colab": {
          "base_uri": "https://localhost:8080/",
          "height": 282
        },
        "id": "7UKm46k4qLSx",
        "outputId": "8acbf296-46de-4ada-e4e8-d29ecce890b8"
      },
      "source": [
        "import matplotlib.pyplot as plt\n",
        "x_test1, xtrain1 = map(np.squeeze,(x_test,x_train))\n",
        "plt.imshow(x_test1[0])"
      ],
      "execution_count": null,
      "outputs": [
        {
          "output_type": "execute_result",
          "data": {
            "text/plain": [
              "<matplotlib.image.AxesImage at 0x7f74ea956f10>"
            ]
          },
          "metadata": {
            "tags": []
          },
          "execution_count": 150
        },
        {
          "output_type": "display_data",
          "data": {
            "image/png": "[encoded data removed]",
            "text/plain": [
              "<Figure size 432x288 with 1 Axes>"
            ]
          },
          "metadata": {
            "tags": [],
            "needs_background": "light"
          }
        }
      ]
    },
    {
      "cell_type": "code",
      "metadata": {
        "colab": {
          "base_uri": "https://localhost:8080/",
          "height": 312
        },
        "id": "6YgWlxR7sDxY",
        "outputId": "f9c87015-fd3b-479a-d73e-baff9daded37"
      },
      "source": [
        "COLOR = 'Blue'\n",
        "plt.rcParams['text.color'] = COLOR\n",
        "plt.rcParams['axes.labelcolor'] = COLOR\n",
        "\n",
        "def show_image(img, label, guess):\n",
        "  plt.figure()\n",
        "  plt.imshow(img)\n",
        "  plt.title(f\"Expected: {label}\")\n",
        "  plt.xlabel(f\"Guess: {guess}\")\n",
        "  plt.colorbar()\n",
        "  plt.grid(False)\n",
        "  plt.show()\n",
        "\n",
        "\n",
        "def get_number():\n",
        "  while True:\n",
        "    num = input(\"Pick a number: \")\n",
        "    if num.isdigit():\n",
        "      num = int(num)\n",
        "      if 0 <= num <= 1000:\n",
        "        return int(num)\n",
        "    else:\n",
        "      print(\"Try again...\")\n",
        "\n",
        "num = get_number()\n",
        "image = x_test1[num]\n",
        "label = y_test[num]\n",
        "\n",
        "class_names = ['0','1','2','3','4','5','6','7','8','9']\n",
        "prediction = model.predict(np.array([x_test[num]]))\n",
        "predicted_class = class_names[np.argmax(prediction)]\n",
        "\n",
        "show_image(image, np.argmax(label), predicted_class)"
      ],
      "execution_count": null,
      "outputs": [
        {
          "output_type": "stream",
          "text": [
            "Pick a number: 0\n"
          ],
          "name": "stdout"
        },
        {
          "output_type": "display_data",
          "data": {
            "image/png": "[encoded data removed]",
            "text/plain": [
              "<Figure size 432x288 with 2 Axes>"
            ]
          },
          "metadata": {
            "tags": [],
            "needs_background": "light"
          }
        }
      ]
    }
  ]
}